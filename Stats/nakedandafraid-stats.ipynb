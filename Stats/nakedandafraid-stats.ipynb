{
 "cells": [
  {
   "cell_type": "markdown",
   "metadata": {},
   "source": [
    "# Naked and Afraid Show Statistics\n",
    "Let's do some data analysis on the Naked and Afraid TV show!"
   ]
  },
  {
   "cell_type": "markdown",
   "metadata": {},
   "source": [
    "## Importing and Installing any Dependencies\n",
    "For this project we will import and install dependencies designed to work with Data.  This includes Pandas for data manipulation and Matplotlib/Seaborn for data visualization."
   ]
  },
  {
   "cell_type": "code",
   "execution_count": 2,
   "metadata": {},
   "outputs": [
    {
     "name": "stdout",
     "output_type": "stream",
     "text": [
      "Requirement already satisfied: pandas in /opt/homebrew/lib/python3.11/site-packages (2.1.0)\n",
      "Requirement already satisfied: numpy>=1.23.2 in /opt/homebrew/lib/python3.11/site-packages (from pandas) (1.25.2)\n",
      "Requirement already satisfied: python-dateutil>=2.8.2 in /Users/erinstaples/Library/Python/3.11/lib/python/site-packages (from pandas) (2.8.2)\n",
      "Requirement already satisfied: pytz>=2020.1 in /opt/homebrew/lib/python3.11/site-packages (from pandas) (2023.3.post1)\n",
      "Requirement already satisfied: tzdata>=2022.1 in /opt/homebrew/lib/python3.11/site-packages (from pandas) (2023.3)\n",
      "Requirement already satisfied: six>=1.5 in /Users/erinstaples/Library/Python/3.11/lib/python/site-packages (from python-dateutil>=2.8.2->pandas) (1.16.0)\n",
      "Note: you may need to restart the kernel to use updated packages.\n",
      "Collecting matplotlib\n",
      "  Obtaining dependency information for matplotlib from https://files.pythonhosted.org/packages/f6/22/9c31044ff7339c63727a135872e5cb59564f11625372a81c3eebf148f4af/matplotlib-3.7.2-cp311-cp311-macosx_11_0_arm64.whl.metadata\n",
      "  Downloading matplotlib-3.7.2-cp311-cp311-macosx_11_0_arm64.whl.metadata (5.6 kB)\n",
      "Collecting contourpy>=1.0.1 (from matplotlib)\n",
      "  Obtaining dependency information for contourpy>=1.0.1 from https://files.pythonhosted.org/packages/88/e3/696e96ee197b1f60242d12b215332af9fc1961c81990c8b5630b89b34ce6/contourpy-1.1.0-cp311-cp311-macosx_11_0_arm64.whl.metadata\n",
      "  Downloading contourpy-1.1.0-cp311-cp311-macosx_11_0_arm64.whl.metadata (5.7 kB)\n",
      "Collecting cycler>=0.10 (from matplotlib)\n",
      "  Downloading cycler-0.11.0-py3-none-any.whl (6.4 kB)\n",
      "Collecting fonttools>=4.22.0 (from matplotlib)\n",
      "  Obtaining dependency information for fonttools>=4.22.0 from https://files.pythonhosted.org/packages/1f/80/c5ce42faa7dec3c22fe587e56e141c7416c19a13a96bd4972bf1b55cb494/fonttools-4.42.1-cp311-cp311-macosx_10_9_universal2.whl.metadata\n",
      "  Downloading fonttools-4.42.1-cp311-cp311-macosx_10_9_universal2.whl.metadata (150 kB)\n",
      "\u001b[2K     \u001b[90m━━━━━━━━━━━━━━━━━━━━━━━━━━━━━━━━━━━━━━━\u001b[0m \u001b[32m151.0/151.0 kB\u001b[0m \u001b[31m1.8 MB/s\u001b[0m eta \u001b[36m0:00:00\u001b[0ma \u001b[36m0:00:01\u001b[0m\n",
      "\u001b[?25hCollecting kiwisolver>=1.0.1 (from matplotlib)\n",
      "  Obtaining dependency information for kiwisolver>=1.0.1 from https://files.pythonhosted.org/packages/4a/fe/23d7fa78f7c66086d196406beb1fb2eaf629dd7adc01c3453033303d17fa/kiwisolver-1.4.5-cp311-cp311-macosx_11_0_arm64.whl.metadata\n",
      "  Downloading kiwisolver-1.4.5-cp311-cp311-macosx_11_0_arm64.whl.metadata (6.4 kB)\n",
      "Requirement already satisfied: numpy>=1.20 in /opt/homebrew/lib/python3.11/site-packages (from matplotlib) (1.25.2)\n",
      "Requirement already satisfied: packaging>=20.0 in /Users/erinstaples/Library/Python/3.11/lib/python/site-packages (from matplotlib) (23.1)\n",
      "Collecting pillow>=6.2.0 (from matplotlib)\n",
      "  Obtaining dependency information for pillow>=6.2.0 from https://files.pythonhosted.org/packages/b7/ad/71982d18fd28ed1f93c31b8648f980ebdbdbcf7d8c9c9b4af59290914ce9/Pillow-10.0.0-cp311-cp311-macosx_11_0_arm64.whl.metadata\n",
      "  Downloading Pillow-10.0.0-cp311-cp311-macosx_11_0_arm64.whl.metadata (9.5 kB)\n",
      "Collecting pyparsing<3.1,>=2.3.1 (from matplotlib)\n",
      "  Downloading pyparsing-3.0.9-py3-none-any.whl (98 kB)\n",
      "\u001b[2K     \u001b[90m━━━━━━━━━━━━━━━━━━━━━━━━━━━━━━━━━━━━━━━━\u001b[0m \u001b[32m98.3/98.3 kB\u001b[0m \u001b[31m2.4 MB/s\u001b[0m eta \u001b[36m0:00:00\u001b[0ma \u001b[36m0:00:01\u001b[0m\n",
      "\u001b[?25hRequirement already satisfied: python-dateutil>=2.7 in /Users/erinstaples/Library/Python/3.11/lib/python/site-packages (from matplotlib) (2.8.2)\n",
      "Requirement already satisfied: six>=1.5 in /Users/erinstaples/Library/Python/3.11/lib/python/site-packages (from python-dateutil>=2.7->matplotlib) (1.16.0)\n",
      "Downloading matplotlib-3.7.2-cp311-cp311-macosx_11_0_arm64.whl (7.3 MB)\n",
      "\u001b[2K   \u001b[90m━━━━━━━━━━━━━━━━━━━━━━━━━━━━━━━━━━━━━━━━\u001b[0m \u001b[32m7.3/7.3 MB\u001b[0m \u001b[31m6.7 MB/s\u001b[0m eta \u001b[36m0:00:00\u001b[0m00:01\u001b[0m00:01\u001b[0m\n",
      "\u001b[?25hDownloading contourpy-1.1.0-cp311-cp311-macosx_11_0_arm64.whl (229 kB)\n",
      "\u001b[2K   \u001b[90m━━━━━━━━━━━━━━━━━━━━━━━━━━━━━━━━━━━━━━━━\u001b[0m \u001b[32m229.3/229.3 kB\u001b[0m \u001b[31m12.8 MB/s\u001b[0m eta \u001b[36m0:00:00\u001b[0m\n",
      "\u001b[?25hDownloading fonttools-4.42.1-cp311-cp311-macosx_10_9_universal2.whl (2.7 MB)\n",
      "\u001b[2K   \u001b[90m━━━━━━━━━━━━━━━━━━━━━━━━━━━━━━━━━━━━━━━━\u001b[0m \u001b[32m2.7/2.7 MB\u001b[0m \u001b[31m15.6 MB/s\u001b[0m eta \u001b[36m0:00:00\u001b[0m00:01\u001b[0m00:01\u001b[0m\n",
      "\u001b[?25hDownloading kiwisolver-1.4.5-cp311-cp311-macosx_11_0_arm64.whl (66 kB)\n",
      "\u001b[2K   \u001b[90m━━━━━━━━━━━━━━━━━━━━━━━━━━━━━━━━━━━━━━━━\u001b[0m \u001b[32m66.2/66.2 kB\u001b[0m \u001b[31m3.6 MB/s\u001b[0m eta \u001b[36m0:00:00\u001b[0m\n",
      "\u001b[?25hDownloading Pillow-10.0.0-cp311-cp311-macosx_11_0_arm64.whl (3.1 MB)\n",
      "\u001b[2K   \u001b[90m━━━━━━━━━━━━━━━━━━━━━━━━━━━━━━━━━━━━━━━━\u001b[0m \u001b[32m3.1/3.1 MB\u001b[0m \u001b[31m19.3 MB/s\u001b[0m eta \u001b[36m0:00:00\u001b[0m00:01\u001b[0m00:01\u001b[0m\n",
      "\u001b[?25hInstalling collected packages: pyparsing, pillow, kiwisolver, fonttools, cycler, contourpy, matplotlib\n",
      "Successfully installed contourpy-1.1.0 cycler-0.11.0 fonttools-4.42.1 kiwisolver-1.4.5 matplotlib-3.7.2 pillow-10.0.0 pyparsing-3.0.9\n",
      "Note: you may need to restart the kernel to use updated packages.\n"
     ]
    }
   ],
   "source": [
    "%pip install pandas\n",
    "%pip install matplotlib"
   ]
  },
  {
   "cell_type": "code",
   "execution_count": 3,
   "metadata": {},
   "outputs": [],
   "source": [
    "import pandas as pd\n",
    "import matplotlib.pyplot as plt"
   ]
  },
  {
   "cell_type": "markdown",
   "metadata": {},
   "source": [
    "## Evaluate the data through looking at it through a data frame."
   ]
  },
  {
   "cell_type": "code",
   "execution_count": 7,
   "metadata": {},
   "outputs": [
    {
     "name": "stdout",
     "output_type": "stream",
     "text": [
      "   id  group_id firstname  lastname  episode_id\n",
      "0   1       NaN     Aaron  Phillips         NaN\n",
      "1   2       NaN      Adam  Kavanagh         NaN\n",
      "2   3       NaN      Adam     Young         NaN\n",
      "3   4       NaN      Adam     Adams         NaN\n",
      "4   5       NaN    Afften  DeShazer         NaN\n",
      "             id  group_id  episode_id\n",
      "count  286.0000       0.0         0.0\n",
      "mean   143.5000       NaN         NaN\n",
      "std     82.7053       NaN         NaN\n",
      "min      1.0000       NaN         NaN\n",
      "25%     72.2500       NaN         NaN\n",
      "50%    143.5000       NaN         NaN\n",
      "75%    214.7500       NaN         NaN\n",
      "max    286.0000       NaN         NaN\n"
     ]
    }
   ],
   "source": [
    "df = pd.read_csv('/Users/erinstaples/01_GitHub/nakedandafraid/nakedandafraid/database/processed/contestant.csv')\n",
    "\n",
    "print (df.head())\n",
    "\n",
    "print (df.describe())"
   ]
  },
  {
   "cell_type": "code",
   "execution_count": 8,
   "metadata": {},
   "outputs": [
    {
     "name": "stdout",
     "output_type": "stream",
     "text": [
      "   id    season_id   episode_nr   aired_date   \\\n",
      "0     1           1            1  2013-06-23    \n",
      "1     2           1            2  2013-06-30    \n",
      "2     3           1            3  2013-07-07    \n",
      "3     4           1            4  2013-07-14    \n",
      "4     5           1            5  2013-07-21    \n",
      "\n",
      "   title                                  scheduled_length_days   \\\n",
      "0  The Jungle Curse                                           21   \n",
      "1  Terror in Tanzania                                         21   \n",
      "2  Island From Hell                                           21   \n",
      "3  Punishment in Panama                                       21   \n",
      "4  Breaking Borneo                                            21   \n",
      "\n",
      "   arrangement   primitive_survival_rating   Location                         \\\n",
      "0  Standard      NULL                        Costa Rica                        \n",
      "1  Standard      NULL                        Tanzania                          \n",
      "2  Standard      NULL                        Maldives                          \n",
      "3  Standard      NULL                        Panama                            \n",
      "4  Standard      NULL                        Malaysia                          \n",
      "\n",
      "   location_id   modifier                        is_partner_replaced   \\\n",
      "0                NULL                                               0   \n",
      "1                NULL                                               0   \n",
      "2                NULL                                               0   \n",
      "3                NULL                                               0   \n",
      "4                NULL                                               0   \n",
      "\n",
      "                Participants  \n",
      "0          Kim Shelton,Shane  \n",
      "1      EJ,Kellie Nightlinger  \n",
      "2  Alison Teal,Jonathan Klay  \n",
      "3         Clint Jivoin,Laura  \n",
      "4    Julie Wright,Puma Cabra  \n",
      "             id    season_id   episode_nr   scheduled_length_days   \\\n",
      "count  244.000000  244.000000   244.000000              244.000000   \n",
      "mean   122.500000    6.700820     6.745902               28.368852   \n",
      "std     70.580923    3.882619     7.709287               13.925257   \n",
      "min      1.000000    1.000000     1.000000               14.000000   \n",
      "25%     61.750000    3.000000     3.000000               21.000000   \n",
      "50%    122.500000    7.000000     6.000000               21.000000   \n",
      "75%    183.250000   10.000000     9.000000               40.000000   \n",
      "max    244.000000   14.000000   109.000000               60.000000   \n",
      "\n",
      "       is_partner_replaced   \n",
      "count            244.000000  \n",
      "mean               0.028689  \n",
      "std                0.167273  \n",
      "min                0.000000  \n",
      "25%                0.000000  \n",
      "50%                0.000000  \n",
      "75%                0.000000  \n",
      "max                1.000000  \n"
     ]
    }
   ],
   "source": [
    "df = pd.read_csv('/Users/erinstaples/01_GitHub/nakedandafraid/nakedandafraid/database/processed/episode.csv')\n",
    "\n",
    "print (df.head())\n",
    "\n",
    "print (df.describe())"
   ]
  },
  {
   "cell_type": "markdown",
   "metadata": {},
   "source": [
    "## Let's start sorting these by type of episodes.\n",
    "\n",
    "Our current database has 244 episodes total.\n",
    "\n",
    "We know that there are 200 episodes of the original Naked and Afraid series.\n",
    "- Naked and Afraid original originally started in June 23, 2023, and the most recent episode was on April 30 2023.\n",
    "\n",
    "There are spinoffs of Naked and Afraid, including Naked and Afraid XL which features longer challenges of 21+ days, and Naked and Afraid: Alone which places one person alone in the wilderness for up to 100 days.\n",
    "\n",
    "- There are 9 Seasons of Naked afraid XL with 44 Episodes total.\n"
   ]
  },
  {
   "cell_type": "markdown",
   "metadata": {},
   "source": [
    "## Missing Data \n",
    "This dataset is missing two different versions of Naked and Afraid.\n",
    "\n",
    "We will need to add: \n",
    "- Naked and Afraid: Solo\n",
    "- Naked and Afraid: Last One Standing\n",
    "- Naked and Afraid: Of Love \n",
    "- Naked and Afraid: Castaway"
   ]
  },
  {
   "cell_type": "markdown",
   "metadata": {},
   "source": []
  },
  {
   "cell_type": "markdown",
   "metadata": {},
   "source": []
  }
 ],
 "metadata": {
  "kernelspec": {
   "display_name": "Python 3",
   "language": "python",
   "name": "python3"
  },
  "language_info": {
   "codemirror_mode": {
    "name": "ipython",
    "version": 3
   },
   "file_extension": ".py",
   "mimetype": "text/x-python",
   "name": "python",
   "nbconvert_exporter": "python",
   "pygments_lexer": "ipython3",
   "version": "3.11.5"
  },
  "orig_nbformat": 4
 },
 "nbformat": 4,
 "nbformat_minor": 2
}
